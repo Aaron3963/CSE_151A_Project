{
 "cells": [
  {
   "cell_type": "markdown",
   "metadata": {},
   "source": [
    "## Transformer Classification Model"
   ]
  },
  {
   "cell_type": "code",
   "execution_count": 89,
   "metadata": {},
   "outputs": [],
   "source": [
    "import numpy as np\n",
    "import pandas as pd\n",
    "import seaborn as sns\n",
    "import calendar\n",
    "import matplotlib.pyplot as plt\n",
    "import yfinance as yf\n",
    "import re\n",
    "from nltk.tokenize import word_tokenize\n",
    "\n",
    "from collections import Counter\n",
    "import nltk\n",
    "from nltk.corpus import stopwords\n",
    "from nltk.tokenize import word_tokenize\n",
    "\n",
    "from sklearn.feature_extraction.text import TfidfVectorizer\n",
    "from sklearn.model_selection import train_test_split\n",
    "from sklearn.linear_model import LogisticRegression\n",
    "from sklearn.metrics import classification_report, accuracy_score\n",
    "\n",
    "import torch\n",
    "\n",
    "sns.set_theme(style=\"whitegrid\")"
   ]
  },
  {
   "cell_type": "code",
   "execution_count": 90,
   "metadata": {},
   "outputs": [],
   "source": [
    "data = pd.read_csv(\"grouped_dataset.csv\")"
   ]
  },
  {
   "cell_type": "code",
   "execution_count": 91,
   "metadata": {},
   "outputs": [],
   "source": [
    "train_dataset, test_dataset = train_test_split(data, test_size=0.2, shuffle=True)"
   ]
  },
  {
   "cell_type": "code",
   "execution_count": 92,
   "metadata": {},
   "outputs": [],
   "source": [
    "from transformers import AutoTokenizer\n",
    "tokenizer = AutoTokenizer.from_pretrained(\"bert-base-uncased\") \n",
    "text = \" \".join(train_dataset['Headlines'].to_list())\n",
    "# tokenizer(\n",
    "#         text,\n",
    "#         padding=\"max_length\",\n",
    "#         truncation=True,\n",
    "#         max_length=800,\n",
    "#         return_tensors=\"pt\"\n",
    "#         )"
   ]
  },
  {
   "cell_type": "code",
   "execution_count": 93,
   "metadata": {},
   "outputs": [],
   "source": [
    "MAX_LENGTH = 600\n",
    "BATCH_SIZE = 32\n",
    "EMBED_DIM = 256\n",
    "NUM_HEAD = 16\n",
    "NUM_LAYER = 4\n",
    "EPOCHS = 25\n",
    "LEARNING_RATE = 1e-5"
   ]
  },
  {
   "cell_type": "code",
   "execution_count": 94,
   "metadata": {},
   "outputs": [],
   "source": [
    "from torch.utils.data import Dataset\n",
    "\n",
    "class NewsDataset(Dataset):\n",
    "    def __init__(self, headlines, labels, tokenizer, max_length):\n",
    "        self.headlines = headlines\n",
    "        self.labels = labels\n",
    "        self.tokenizer = tokenizer\n",
    "        self.max_length = max_length\n",
    "\n",
    "    def __len__(self):\n",
    "        return len(self.headlines)\n",
    "\n",
    "    def __getitem__(self, idx):\n",
    "        # Tokenize individual headline\n",
    "        text = self.headlines[idx]\n",
    "        tokens = self.tokenizer(\n",
    "            text,\n",
    "            padding=\"max_length\",\n",
    "            truncation=True,\n",
    "            max_length=self.max_length,\n",
    "            return_tensors=\"pt\"\n",
    "        )\n",
    "        return tokens['input_ids'].squeeze(0), torch.tensor(self.labels[idx], dtype=torch.float)\n",
    "        "
   ]
  },
  {
   "cell_type": "code",
   "execution_count": 95,
   "metadata": {},
   "outputs": [],
   "source": [
    "from torch.utils.data import DataLoader\n",
    "\n",
    "\n",
    "train_PYdataset = NewsDataset(\n",
    "    headlines=train_dataset['Headlines'].tolist(),\n",
    "    labels=train_dataset['trend_up'].astype(int).tolist(),\n",
    "    tokenizer=tokenizer,\n",
    "    max_length=MAX_LENGTH\n",
    ")\n",
    "train_dataloader = DataLoader(\n",
    "    train_PYdataset, \n",
    "    batch_size=BATCH_SIZE,\n",
    "    shuffle=True,\n",
    ")\n",
    "\n",
    "\n",
    "test_PYdataset = NewsDataset(\n",
    "    headlines=test_dataset['Headlines'].tolist(),\n",
    "    labels=test_dataset['trend_up'].astype(int).tolist(),\n",
    "    tokenizer=tokenizer,\n",
    "    max_length=MAX_LENGTH\n",
    ")\n",
    "test_dataloader = DataLoader(\n",
    "    test_PYdataset, \n",
    "    batch_size=BATCH_SIZE,\n",
    "    shuffle=True,\n",
    ")"
   ]
  },
  {
   "cell_type": "code",
   "execution_count": 96,
   "metadata": {},
   "outputs": [],
   "source": [
    "import torch.nn as nn\n",
    "\n",
    "class UntrainedTransformerClassifier(nn.Module):\n",
    "    def __init__(self, vocab_size, embed_dim, num_heads, num_layers, max_length, dropout = 0.2):\n",
    "        super(UntrainedTransformerClassifier, self).__init__()\n",
    "\n",
    "        self.embedding = nn.Embedding(vocab_size, embed_dim)\n",
    "        self.positional_encoding = nn.Embedding(max_length,embed_dim)\n",
    "\n",
    "        # Transformer encoder\n",
    "        encoder_layer = nn.TransformerEncoderLayer(\n",
    "            d_model=embed_dim,\n",
    "            nhead=num_heads,\n",
    "            dim_feedforward=embed_dim * 4,\n",
    "            dropout=dropout,\n",
    "            batch_first=True,\n",
    "        )\n",
    "        self.transformer = nn.TransformerEncoder(encoder_layer, num_layers=num_layers)\n",
    "\n",
    "        #\n",
    "        self.linear = nn.Linear(embed_dim, 1)\n",
    "        self.dropout = nn.Dropout(dropout)\n",
    "\n",
    "    def forward(self, input_ids):\n",
    "        seq_length = input_ids.size(1)\n",
    "\n",
    "        # Token embedding + positional encoding\n",
    "        x = self.embedding(input_ids) + self.positional_encoding(torch.arange(seq_length,device=input_ids.device))\n",
    "\n",
    "        x = self.transformer(x)\n",
    "\n",
    "        x = self.dropout(x)\n",
    "        x = x.max(dim=1)[0]\n",
    "        out = self.linear(x)\n",
    "        return out   \n"
   ]
  },
  {
   "cell_type": "code",
   "execution_count": 97,
   "metadata": {},
   "outputs": [],
   "source": [
    "device = torch.device(\"cuda\" if torch.cuda.is_available() else \"cpu\")"
   ]
  },
  {
   "cell_type": "code",
   "execution_count": 98,
   "metadata": {},
   "outputs": [],
   "source": [
    "def evaluate(model, dataloader, device):\n",
    "    model.eval()\n",
    "    correct = 0\n",
    "    total_samples = 0\n",
    "\n",
    "    with torch.no_grad():\n",
    "        for X, Y in dataloader:\n",
    "            input_ids = X.to(device)\n",
    "            labels = Y.to(device)\n",
    "\n",
    "            logits = model(input_ids)\n",
    "            outputs = torch.sigmoid(logits).squeeze(1)\n",
    "\n",
    "\n",
    "            preds = (outputs >= 0.5).float()\n",
    "            correct += (preds == labels).sum().item()\n",
    "            total_samples += labels.size(0)\n",
    "\n",
    "    accuracy = correct / total_samples\n",
    "    model.train()\n",
    "    return accuracy"
   ]
  },
  {
   "cell_type": "code",
   "execution_count": 99,
   "metadata": {},
   "outputs": [
    {
     "name": "stdout",
     "output_type": "stream",
     "text": [
      "Epoch [1/25], Loss: 0.8634, Train Acc: 0.5455, Test Acc: 0.6077\n",
      "Epoch [2/25], Loss: 0.6839, Train Acc: 0.5358, Test Acc: 0.6000\n",
      "Epoch [3/25], Loss: 0.6115, Train Acc: 0.5126, Test Acc: 0.5462\n",
      "Epoch [4/25], Loss: 0.7115, Train Acc: 0.5319, Test Acc: 0.6000\n",
      "Epoch [5/25], Loss: 0.8547, Train Acc: 0.5493, Test Acc: 0.5692\n",
      "Epoch [6/25], Loss: 0.5545, Train Acc: 0.5435, Test Acc: 0.5692\n",
      "Epoch [7/25], Loss: 0.6965, Train Acc: 0.5571, Test Acc: 0.6077\n",
      "Epoch [8/25], Loss: 0.7752, Train Acc: 0.5609, Test Acc: 0.6154\n",
      "Epoch [9/25], Loss: 0.8426, Train Acc: 0.5629, Test Acc: 0.5846\n",
      "Epoch [10/25], Loss: 0.7632, Train Acc: 0.5667, Test Acc: 0.5692\n",
      "Epoch [11/25], Loss: 0.6054, Train Acc: 0.5725, Test Acc: 0.5846\n",
      "Epoch [12/25], Loss: 0.6682, Train Acc: 0.5822, Test Acc: 0.6077\n",
      "Epoch [13/25], Loss: 0.5943, Train Acc: 0.5667, Test Acc: 0.5923\n",
      "Epoch [14/25], Loss: 0.7452, Train Acc: 0.5745, Test Acc: 0.5769\n",
      "Epoch [15/25], Loss: 0.7003, Train Acc: 0.5725, Test Acc: 0.6154\n",
      "Epoch [16/25], Loss: 0.5680, Train Acc: 0.5880, Test Acc: 0.6077\n",
      "Epoch [17/25], Loss: 0.7406, Train Acc: 0.5803, Test Acc: 0.6231\n",
      "Epoch [18/25], Loss: 0.6940, Train Acc: 0.5880, Test Acc: 0.6231\n",
      "Epoch [19/25], Loss: 0.6629, Train Acc: 0.5938, Test Acc: 0.6077\n",
      "Epoch [20/25], Loss: 0.6475, Train Acc: 0.5938, Test Acc: 0.6154\n",
      "Epoch [21/25], Loss: 0.6889, Train Acc: 0.5938, Test Acc: 0.6154\n",
      "Epoch [22/25], Loss: 0.6770, Train Acc: 0.5977, Test Acc: 0.6077\n",
      "Epoch [23/25], Loss: 0.6331, Train Acc: 0.5977, Test Acc: 0.6077\n",
      "Epoch [24/25], Loss: 0.7095, Train Acc: 0.5938, Test Acc: 0.6231\n",
      "Epoch [25/25], Loss: 0.6838, Train Acc: 0.5899, Test Acc: 0.6154\n"
     ]
    }
   ],
   "source": [
    "import torch.optim as optim\n",
    "from torch.optim.lr_scheduler import ExponentialLR\n",
    "\n",
    "model = UntrainedTransformerClassifier(vocab_size=tokenizer.vocab_size, \n",
    "                                       embed_dim= EMBED_DIM, \n",
    "                                       num_heads= NUM_HEAD, \n",
    "                                       num_layers=NUM_LAYER, \n",
    "                                       max_length=MAX_LENGTH).to(device)\n",
    "\n",
    "criterion = nn.BCEWithLogitsLoss()\n",
    "\n",
    "\n",
    "optimizer = optim.Adam(model.parameters(), lr=LEARNING_RATE)\n",
    "scheduler = ExponentialLR(optimizer, gamma=0.9)\n",
    "\n",
    "for epoch in range(EPOCHS):\n",
    "    for xb, yb in train_dataloader:\n",
    "        xb, yb = xb.to(device), yb.to(device)\n",
    "\n",
    "        logits = model(xb).squeeze(1)\n",
    "        loss = criterion(logits, yb)\n",
    "        # Backward pass and optimization\n",
    "        optimizer.zero_grad()\n",
    "        loss.backward()\n",
    "        optimizer.step()\n",
    "        \n",
    "    scheduler.step()\n",
    "    print(f\"Epoch [{epoch+1}/{EPOCHS}], Loss: {loss.item():.4f}, Train Acc: {evaluate(model,train_dataloader,device):.4f}, Test Acc: {evaluate(model,test_dataloader,device):.4f}\")"
   ]
  }
 ],
 "metadata": {
  "kernelspec": {
   "display_name": "Python 3",
   "language": "python",
   "name": "python3"
  },
  "language_info": {
   "codemirror_mode": {
    "name": "ipython",
    "version": 3
   },
   "file_extension": ".py",
   "mimetype": "text/x-python",
   "name": "python",
   "nbconvert_exporter": "python",
   "pygments_lexer": "ipython3",
   "version": "3.12.2"
  }
 },
 "nbformat": 4,
 "nbformat_minor": 2
}
